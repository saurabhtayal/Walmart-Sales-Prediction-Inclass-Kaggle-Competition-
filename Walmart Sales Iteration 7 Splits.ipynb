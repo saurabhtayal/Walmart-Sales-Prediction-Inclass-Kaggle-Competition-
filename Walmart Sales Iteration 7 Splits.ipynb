{
 "cells": [
  {
   "cell_type": "code",
   "execution_count": 70,
   "metadata": {},
   "outputs": [],
   "source": [
    "import numpy as np\n",
    "import pandas as pd\n",
    "import matplotlib.pyplot as plt\n",
    "import seaborn as sns\n",
    "sns.set(style = 'whitegrid')\n",
    "from sklearn.model_selection import train_test_split, RandomizedSearchCV\n",
    "from sklearn.linear_model import LinearRegression\n",
    "import scipy.stats as stats\n",
    "from sklearn.ensemble import RandomForestRegressor, GradientBoostingRegressor, VotingRegressor\n",
    "from scipy.stats import randint as sp_randint, uniform as sp_uniform\n",
    "import lightgbm as lgb\n",
    "from xgboost import XGBRFRegressor, XGBRegressor\n",
    "from catboost import CatBoostRegressor\n",
    "from sklearn.preprocessing import StandardScaler, PolynomialFeatures\n",
    "from sklearn.decomposition import PCA"
   ]
  },
  {
   "cell_type": "code",
   "execution_count": 71,
   "metadata": {},
   "outputs": [],
   "source": [
    "pd.set_option('display.max_columns', None)"
   ]
  },
  {
   "cell_type": "code",
   "execution_count": 152,
   "metadata": {},
   "outputs": [
    {
     "data": {
      "text/html": [
       "<div>\n",
       "<style scoped>\n",
       "    .dataframe tbody tr th:only-of-type {\n",
       "        vertical-align: middle;\n",
       "    }\n",
       "\n",
       "    .dataframe tbody tr th {\n",
       "        vertical-align: top;\n",
       "    }\n",
       "\n",
       "    .dataframe thead th {\n",
       "        text-align: right;\n",
       "    }\n",
       "</style>\n",
       "<table border=\"1\" class=\"dataframe\">\n",
       "  <thead>\n",
       "    <tr style=\"text-align: right;\">\n",
       "      <th></th>\n",
       "      <th>Year</th>\n",
       "      <th>Month</th>\n",
       "      <th>ProductCategory</th>\n",
       "      <th>Sales</th>\n",
       "      <th>Avg_Sales</th>\n",
       "      <th>Event</th>\n",
       "      <th>Federal Holiday</th>\n",
       "    </tr>\n",
       "  </thead>\n",
       "  <tbody>\n",
       "    <tr>\n",
       "      <th>0</th>\n",
       "      <td>2009</td>\n",
       "      <td>1</td>\n",
       "      <td>WomenClothing</td>\n",
       "      <td>1755.0</td>\n",
       "      <td>1215.466667</td>\n",
       "      <td>0.0</td>\n",
       "      <td>3.0</td>\n",
       "    </tr>\n",
       "    <tr>\n",
       "      <th>1</th>\n",
       "      <td>2009</td>\n",
       "      <td>1</td>\n",
       "      <td>MenClothing</td>\n",
       "      <td>524.0</td>\n",
       "      <td>1215.466667</td>\n",
       "      <td>0.0</td>\n",
       "      <td>3.0</td>\n",
       "    </tr>\n",
       "    <tr>\n",
       "      <th>2</th>\n",
       "      <td>2009</td>\n",
       "      <td>1</td>\n",
       "      <td>OtherClothing</td>\n",
       "      <td>936.0</td>\n",
       "      <td>1215.466667</td>\n",
       "      <td>0.0</td>\n",
       "      <td>3.0</td>\n",
       "    </tr>\n",
       "    <tr>\n",
       "      <th>3</th>\n",
       "      <td>2009</td>\n",
       "      <td>2</td>\n",
       "      <td>WomenClothing</td>\n",
       "      <td>1729.0</td>\n",
       "      <td>1308.433333</td>\n",
       "      <td>1.0</td>\n",
       "      <td>1.0</td>\n",
       "    </tr>\n",
       "    <tr>\n",
       "      <th>4</th>\n",
       "      <td>2009</td>\n",
       "      <td>2</td>\n",
       "      <td>MenClothing</td>\n",
       "      <td>496.0</td>\n",
       "      <td>1308.433333</td>\n",
       "      <td>1.0</td>\n",
       "      <td>1.0</td>\n",
       "    </tr>\n",
       "  </tbody>\n",
       "</table>\n",
       "</div>"
      ],
      "text/plain": [
       "   Year  Month ProductCategory   Sales    Avg_Sales  Event  Federal Holiday\n",
       "0  2009      1   WomenClothing  1755.0  1215.466667    0.0              3.0\n",
       "1  2009      1     MenClothing   524.0  1215.466667    0.0              3.0\n",
       "2  2009      1   OtherClothing   936.0  1215.466667    0.0              3.0\n",
       "3  2009      2   WomenClothing  1729.0  1308.433333    1.0              1.0\n",
       "4  2009      2     MenClothing   496.0  1308.433333    1.0              1.0"
      ]
     },
     "execution_count": 152,
     "metadata": {},
     "output_type": "execute_result"
    }
   ],
   "source": [
    "train = pd.read_csv('train_events.csv')\n",
    "train.head()"
   ]
  },
  {
   "cell_type": "code",
   "execution_count": 153,
   "metadata": {},
   "outputs": [
    {
     "data": {
      "text/html": [
       "<div>\n",
       "<style scoped>\n",
       "    .dataframe tbody tr th:only-of-type {\n",
       "        vertical-align: middle;\n",
       "    }\n",
       "\n",
       "    .dataframe tbody tr th {\n",
       "        vertical-align: top;\n",
       "    }\n",
       "\n",
       "    .dataframe thead th {\n",
       "        text-align: right;\n",
       "    }\n",
       "</style>\n",
       "<table border=\"1\" class=\"dataframe\">\n",
       "  <thead>\n",
       "    <tr style=\"text-align: right;\">\n",
       "      <th></th>\n",
       "      <th>Year</th>\n",
       "      <th>Month</th>\n",
       "      <th>ProductCategory</th>\n",
       "      <th>Avg_Sales</th>\n",
       "      <th>Event</th>\n",
       "      <th>Federal Holiday</th>\n",
       "    </tr>\n",
       "  </thead>\n",
       "  <tbody>\n",
       "    <tr>\n",
       "      <th>0</th>\n",
       "      <td>2014</td>\n",
       "      <td>1</td>\n",
       "      <td>WomenClothing</td>\n",
       "      <td>1215.466667</td>\n",
       "      <td>0.0</td>\n",
       "      <td>3.0</td>\n",
       "    </tr>\n",
       "    <tr>\n",
       "      <th>1</th>\n",
       "      <td>2014</td>\n",
       "      <td>1</td>\n",
       "      <td>MenClothing</td>\n",
       "      <td>1215.466667</td>\n",
       "      <td>0.0</td>\n",
       "      <td>3.0</td>\n",
       "    </tr>\n",
       "    <tr>\n",
       "      <th>2</th>\n",
       "      <td>2014</td>\n",
       "      <td>1</td>\n",
       "      <td>OtherClothing</td>\n",
       "      <td>1215.466667</td>\n",
       "      <td>0.0</td>\n",
       "      <td>3.0</td>\n",
       "    </tr>\n",
       "    <tr>\n",
       "      <th>3</th>\n",
       "      <td>2014</td>\n",
       "      <td>2</td>\n",
       "      <td>WomenClothing</td>\n",
       "      <td>1308.433333</td>\n",
       "      <td>1.0</td>\n",
       "      <td>1.0</td>\n",
       "    </tr>\n",
       "    <tr>\n",
       "      <th>4</th>\n",
       "      <td>2014</td>\n",
       "      <td>2</td>\n",
       "      <td>MenClothing</td>\n",
       "      <td>1308.433333</td>\n",
       "      <td>1.0</td>\n",
       "      <td>1.0</td>\n",
       "    </tr>\n",
       "  </tbody>\n",
       "</table>\n",
       "</div>"
      ],
      "text/plain": [
       "   Year  Month ProductCategory    Avg_Sales  Event  Federal Holiday\n",
       "0  2014      1   WomenClothing  1215.466667    0.0              3.0\n",
       "1  2014      1     MenClothing  1215.466667    0.0              3.0\n",
       "2  2014      1   OtherClothing  1215.466667    0.0              3.0\n",
       "3  2014      2   WomenClothing  1308.433333    1.0              1.0\n",
       "4  2014      2     MenClothing  1308.433333    1.0              1.0"
      ]
     },
     "execution_count": 153,
     "metadata": {},
     "output_type": "execute_result"
    }
   ],
   "source": [
    "test = pd.read_csv('test_events.csv')\n",
    "test.head()"
   ]
  },
  {
   "cell_type": "code",
   "execution_count": 154,
   "metadata": {},
   "outputs": [],
   "source": [
    "train = pd.get_dummies(train, drop_first = True)\n",
    "test = pd.get_dummies(test, drop_first = True)\n",
    "X_train = train.drop('Sales', 1)\n",
    "y = train['Sales']"
   ]
  },
  {
   "cell_type": "code",
   "execution_count": 155,
   "metadata": {},
   "outputs": [
    {
     "data": {
      "text/html": [
       "<div>\n",
       "<style scoped>\n",
       "    .dataframe tbody tr th:only-of-type {\n",
       "        vertical-align: middle;\n",
       "    }\n",
       "\n",
       "    .dataframe tbody tr th {\n",
       "        vertical-align: top;\n",
       "    }\n",
       "\n",
       "    .dataframe thead th {\n",
       "        text-align: right;\n",
       "    }\n",
       "</style>\n",
       "<table border=\"1\" class=\"dataframe\">\n",
       "  <thead>\n",
       "    <tr style=\"text-align: right;\">\n",
       "      <th></th>\n",
       "      <th>Year</th>\n",
       "      <th>Month</th>\n",
       "      <th>Avg_Sales</th>\n",
       "      <th>Event</th>\n",
       "      <th>Federal Holiday</th>\n",
       "      <th>ProductCategory_OtherClothing</th>\n",
       "      <th>ProductCategory_WomenClothing</th>\n",
       "    </tr>\n",
       "  </thead>\n",
       "  <tbody>\n",
       "    <tr>\n",
       "      <th>0</th>\n",
       "      <td>2009</td>\n",
       "      <td>1</td>\n",
       "      <td>1215.466667</td>\n",
       "      <td>0.0</td>\n",
       "      <td>3.0</td>\n",
       "      <td>0</td>\n",
       "      <td>1</td>\n",
       "    </tr>\n",
       "    <tr>\n",
       "      <th>1</th>\n",
       "      <td>2009</td>\n",
       "      <td>1</td>\n",
       "      <td>1215.466667</td>\n",
       "      <td>0.0</td>\n",
       "      <td>3.0</td>\n",
       "      <td>0</td>\n",
       "      <td>0</td>\n",
       "    </tr>\n",
       "    <tr>\n",
       "      <th>2</th>\n",
       "      <td>2009</td>\n",
       "      <td>1</td>\n",
       "      <td>1215.466667</td>\n",
       "      <td>0.0</td>\n",
       "      <td>3.0</td>\n",
       "      <td>1</td>\n",
       "      <td>0</td>\n",
       "    </tr>\n",
       "    <tr>\n",
       "      <th>3</th>\n",
       "      <td>2009</td>\n",
       "      <td>2</td>\n",
       "      <td>1308.433333</td>\n",
       "      <td>1.0</td>\n",
       "      <td>1.0</td>\n",
       "      <td>0</td>\n",
       "      <td>1</td>\n",
       "    </tr>\n",
       "    <tr>\n",
       "      <th>4</th>\n",
       "      <td>2009</td>\n",
       "      <td>2</td>\n",
       "      <td>1308.433333</td>\n",
       "      <td>1.0</td>\n",
       "      <td>1.0</td>\n",
       "      <td>0</td>\n",
       "      <td>0</td>\n",
       "    </tr>\n",
       "  </tbody>\n",
       "</table>\n",
       "</div>"
      ],
      "text/plain": [
       "   Year  Month    Avg_Sales  Event  Federal Holiday  \\\n",
       "0  2009      1  1215.466667    0.0              3.0   \n",
       "1  2009      1  1215.466667    0.0              3.0   \n",
       "2  2009      1  1215.466667    0.0              3.0   \n",
       "3  2009      2  1308.433333    1.0              1.0   \n",
       "4  2009      2  1308.433333    1.0              1.0   \n",
       "\n",
       "   ProductCategory_OtherClothing  ProductCategory_WomenClothing  \n",
       "0                              0                              1  \n",
       "1                              0                              0  \n",
       "2                              1                              0  \n",
       "3                              0                              1  \n",
       "4                              0                              0  "
      ]
     },
     "execution_count": 155,
     "metadata": {},
     "output_type": "execute_result"
    }
   ],
   "source": [
    "X_train.head()"
   ]
  },
  {
   "cell_type": "markdown",
   "metadata": {},
   "source": [
    "#### RF"
   ]
  },
  {
   "cell_type": "code",
   "execution_count": 144,
   "metadata": {},
   "outputs": [
    {
     "data": {
      "text/plain": [
       "[(7.860868018786031e-07, 'Thunderstorm'),\n",
       " (3.320796514791274e-05, 'Fog , Rain , Snow'),\n",
       " (7.644313438445564e-05, 'Snow'),\n",
       " (0.00016808532102975546, 'Fog'),\n",
       " (0.00027061177273521466, 'Year'),\n",
       " (0.0002845584107518643, 'Visibility_High'),\n",
       " (0.0003353436099591242, 'Rain , Snow'),\n",
       " (0.00037647740488739836, 'Fog , Snow'),\n",
       " (0.0004024559786027238, 'Precip'),\n",
       " (0.0004152710114675468, 'Fog , Rain'),\n",
       " (0.00045453907686247586, 'Mill_Use'),\n",
       " (0.0004812277287255418, 'Wind_High'),\n",
       " (0.0004886764373068641, 'Normal'),\n",
       " (0.0005208762688843206, 'Humidity_Avg'),\n",
       " (0.0005721252981574184, 'Upland_Planted'),\n",
       " (0.0005875229073685211, 'Dew_High'),\n",
       " (0.0006348928533320882, 'Visibility_Low'),\n",
       " (0.0006384989132439447, 'Temp_Avg'),\n",
       " (0.0006683246586416982, 'Wind_Low'),\n",
       " (0.0006963818058038136, 'Sea_Avg'),\n",
       " (0.0007086510965173477, 'Yield_Harvested'),\n",
       " (0.0007503995402160682, 'Sea_High'),\n",
       " (0.0007565222364006875, 'Federal_Holidays'),\n",
       " (0.0009200945291257584, 'Visibility_Avg'),\n",
       " (0.0009755559370322316, 'Exports'),\n",
       " (0.0010222326626185602, 'Humidity_Low'),\n",
       " (0.0010250071339234744, 'Rain'),\n",
       " (0.0010732657849018034, 'Change'),\n",
       " (0.0011599840369877683, 'Humidity_High'),\n",
       " (0.001170554439632691, 'Wind_Avg'),\n",
       " (0.0012443461912263294, 'Dew_Avg'),\n",
       " (0.0014654688326824373, 'Production'),\n",
       " (0.0015576510398257813, 'Rate_CreditCard'),\n",
       " (0.0017790125581886764, 'Temp_Low'),\n",
       " (0.0017937301025375333, 'Temp_High'),\n",
       " (0.0019460243326912226, 'Upland_Harvested'),\n",
       " (0.002538856681067389, 'Sea_Low'),\n",
       " (0.002593317445490645, 'Rate_PersonalLoan'),\n",
       " (0.0027269773383232013, 'Unemp_Rate'),\n",
       " (0.0028352424799321352, 'Dew_Low'),\n",
       " (0.005565254578328117, 'Wages'),\n",
       " (0.007822944331583488, 'Nominal_GDP'),\n",
       " (0.00796930592080349, 'CPI'),\n",
       " (0.00870962219500577, 'Cotton_Price'),\n",
       " (0.011966527560832635, 'Real_GDP'),\n",
       " (0.020470258307042046, 'Events'),\n",
       " (0.021373355330880424, 'ProductCategory_OtherClothing'),\n",
       " (0.02724844381276388, 'Month'),\n",
       " (0.8507250869193439, 'ProductCategory_WomenClothing')]"
      ]
     },
     "execution_count": 144,
     "metadata": {},
     "output_type": "execute_result"
    }
   ],
   "source": [
    "rfr = RandomForestRegressor(random_state = 0)\n",
    "rfr.fit(X_train, y)\n",
    "imp = list(zip(rfr.feature_importances_, X_train.columns))\n",
    "sorted(imp)"
   ]
  },
  {
   "cell_type": "markdown",
   "metadata": {},
   "source": [
    "### Reducing Columns"
   ]
  },
  {
   "cell_type": "code",
   "execution_count": 145,
   "metadata": {},
   "outputs": [],
   "source": [
    "combined = [train, test]\n",
    "\n",
    "train.columns\n",
    "\n",
    "for i in combined:\n",
    "    i['Holidays'] = i['Events'] + i['Federal_Holidays']\n",
    "    i['GDP'] = (i['Nominal_GDP'] + i['Real_GDP']) / 2\n",
    "    i['Interest_Rate'] = (i['Rate_CreditCard'] + i['Rate_PersonalLoan']) / 2\n",
    "    i['Bad_Weather'] = i['Fog'] + i['Fog , Rain'] + i['Fog , Rain , Snow'] + i['Fog , Snow'] + i['Rain'] + i['Rain , Snow'] + i['Snow'] + i['Thunderstorm']\n",
    "\n",
    "train = train.drop(['Events', 'Federal_Holidays', 'Nominal_GDP', 'Real_GDP', 'Rate_CreditCard', 'Rate_PersonalLoan', \n",
    "                'Upland_Planted', 'Upland_Harvested', 'Temp_High', 'Temp_Low', 'Dew_High', 'Dew_Low', \n",
    "                'Humidity_High', 'Humidity_Low', 'Sea_High', 'Sea_Low', 'Visibility_High', 'Visibility_Low',\n",
    "               'Wind_Low', 'Wind_High', 'Fog , Rain', 'Fog , Rain , Snow', 'Fog , Snow', 'Rain', 'Rain , Snow', 'Snow',\n",
    "               'Thunderstorm', 'Fog', 'Change'], axis = 1)\n",
    "\n",
    "test = test.drop(['Events', 'Federal_Holidays', 'Nominal_GDP', 'Real_GDP', 'Rate_CreditCard', 'Rate_PersonalLoan', \n",
    "                'Upland_Planted', 'Upland_Harvested', 'Temp_High', 'Temp_Low', 'Dew_High', 'Dew_Low', \n",
    "                'Humidity_High', 'Humidity_Low', 'Sea_High', 'Sea_Low', 'Visibility_High', 'Visibility_Low',\n",
    "               'Wind_Low', 'Wind_High', 'Fog , Rain', 'Fog , Rain , Snow', 'Fog , Snow', 'Rain', 'Rain , Snow', 'Snow',\n",
    "               'Thunderstorm', 'Fog', 'Change'], axis = 1)"
   ]
  },
  {
   "cell_type": "code",
   "execution_count": 146,
   "metadata": {},
   "outputs": [
    {
     "data": {
      "text/html": [
       "<div>\n",
       "<style scoped>\n",
       "    .dataframe tbody tr th:only-of-type {\n",
       "        vertical-align: middle;\n",
       "    }\n",
       "\n",
       "    .dataframe tbody tr th {\n",
       "        vertical-align: top;\n",
       "    }\n",
       "\n",
       "    .dataframe thead th {\n",
       "        text-align: right;\n",
       "    }\n",
       "</style>\n",
       "<table border=\"1\" class=\"dataframe\">\n",
       "  <thead>\n",
       "    <tr style=\"text-align: right;\">\n",
       "      <th></th>\n",
       "      <th>Year</th>\n",
       "      <th>Month</th>\n",
       "      <th>Sales</th>\n",
       "      <th>CPI</th>\n",
       "      <th>Unemp_Rate</th>\n",
       "      <th>Wages</th>\n",
       "      <th>Cotton_Price</th>\n",
       "      <th>Yield_Harvested</th>\n",
       "      <th>Production</th>\n",
       "      <th>Mill_Use</th>\n",
       "      <th>Exports</th>\n",
       "      <th>Temp_Avg</th>\n",
       "      <th>Dew_Avg</th>\n",
       "      <th>Humidity_Avg</th>\n",
       "      <th>Sea_Avg</th>\n",
       "      <th>Visibility_Avg</th>\n",
       "      <th>Wind_Avg</th>\n",
       "      <th>Precip</th>\n",
       "      <th>Normal</th>\n",
       "      <th>ProductCategory_OtherClothing</th>\n",
       "      <th>ProductCategory_WomenClothing</th>\n",
       "      <th>Holidays</th>\n",
       "      <th>GDP</th>\n",
       "      <th>Interest_Rate</th>\n",
       "      <th>Bad_Weather</th>\n",
       "    </tr>\n",
       "  </thead>\n",
       "  <tbody>\n",
       "    <tr>\n",
       "      <th>0</th>\n",
       "      <td>2009</td>\n",
       "      <td>1</td>\n",
       "      <td>1755.0</td>\n",
       "      <td>233.402</td>\n",
       "      <td>7.8</td>\n",
       "      <td>22.05</td>\n",
       "      <td>0.5770</td>\n",
       "      <td>799</td>\n",
       "      <td>12.589</td>\n",
       "      <td>4.17</td>\n",
       "      <td>11.55</td>\n",
       "      <td>-2.096774</td>\n",
       "      <td>-9.903226</td>\n",
       "      <td>57.354839</td>\n",
       "      <td>1015.967742</td>\n",
       "      <td>14.000000</td>\n",
       "      <td>12.000000</td>\n",
       "      <td>2.445806</td>\n",
       "      <td>21.0</td>\n",
       "      <td>0</td>\n",
       "      <td>1</td>\n",
       "      <td>3.0</td>\n",
       "      <td>14414.403119</td>\n",
       "      <td>11.735</td>\n",
       "      <td>10.0</td>\n",
       "    </tr>\n",
       "    <tr>\n",
       "      <th>1</th>\n",
       "      <td>2009</td>\n",
       "      <td>1</td>\n",
       "      <td>524.0</td>\n",
       "      <td>233.402</td>\n",
       "      <td>7.8</td>\n",
       "      <td>22.05</td>\n",
       "      <td>0.5770</td>\n",
       "      <td>799</td>\n",
       "      <td>12.589</td>\n",
       "      <td>4.17</td>\n",
       "      <td>11.55</td>\n",
       "      <td>-2.096774</td>\n",
       "      <td>-9.903226</td>\n",
       "      <td>57.354839</td>\n",
       "      <td>1015.967742</td>\n",
       "      <td>14.000000</td>\n",
       "      <td>12.000000</td>\n",
       "      <td>2.445806</td>\n",
       "      <td>21.0</td>\n",
       "      <td>0</td>\n",
       "      <td>0</td>\n",
       "      <td>3.0</td>\n",
       "      <td>14414.403119</td>\n",
       "      <td>11.735</td>\n",
       "      <td>10.0</td>\n",
       "    </tr>\n",
       "    <tr>\n",
       "      <th>2</th>\n",
       "      <td>2009</td>\n",
       "      <td>1</td>\n",
       "      <td>936.0</td>\n",
       "      <td>233.402</td>\n",
       "      <td>7.8</td>\n",
       "      <td>22.05</td>\n",
       "      <td>0.5770</td>\n",
       "      <td>799</td>\n",
       "      <td>12.589</td>\n",
       "      <td>4.17</td>\n",
       "      <td>11.55</td>\n",
       "      <td>-2.096774</td>\n",
       "      <td>-9.903226</td>\n",
       "      <td>57.354839</td>\n",
       "      <td>1015.967742</td>\n",
       "      <td>14.000000</td>\n",
       "      <td>12.000000</td>\n",
       "      <td>2.445806</td>\n",
       "      <td>21.0</td>\n",
       "      <td>1</td>\n",
       "      <td>0</td>\n",
       "      <td>3.0</td>\n",
       "      <td>14414.403119</td>\n",
       "      <td>11.735</td>\n",
       "      <td>10.0</td>\n",
       "    </tr>\n",
       "    <tr>\n",
       "      <th>3</th>\n",
       "      <td>2009</td>\n",
       "      <td>2</td>\n",
       "      <td>1729.0</td>\n",
       "      <td>234.663</td>\n",
       "      <td>8.3</td>\n",
       "      <td>22.22</td>\n",
       "      <td>0.5521</td>\n",
       "      <td>799</td>\n",
       "      <td>12.589</td>\n",
       "      <td>3.87</td>\n",
       "      <td>11.10</td>\n",
       "      <td>2.785714</td>\n",
       "      <td>-6.392857</td>\n",
       "      <td>54.000000</td>\n",
       "      <td>1017.071429</td>\n",
       "      <td>15.178571</td>\n",
       "      <td>12.214286</td>\n",
       "      <td>0.782500</td>\n",
       "      <td>22.0</td>\n",
       "      <td>0</td>\n",
       "      <td>1</td>\n",
       "      <td>2.0</td>\n",
       "      <td>14377.688519</td>\n",
       "      <td>12.010</td>\n",
       "      <td>6.0</td>\n",
       "    </tr>\n",
       "    <tr>\n",
       "      <th>4</th>\n",
       "      <td>2009</td>\n",
       "      <td>2</td>\n",
       "      <td>496.0</td>\n",
       "      <td>234.663</td>\n",
       "      <td>8.3</td>\n",
       "      <td>22.22</td>\n",
       "      <td>0.5521</td>\n",
       "      <td>799</td>\n",
       "      <td>12.589</td>\n",
       "      <td>3.87</td>\n",
       "      <td>11.10</td>\n",
       "      <td>2.785714</td>\n",
       "      <td>-6.392857</td>\n",
       "      <td>54.000000</td>\n",
       "      <td>1017.071429</td>\n",
       "      <td>15.178571</td>\n",
       "      <td>12.214286</td>\n",
       "      <td>0.782500</td>\n",
       "      <td>22.0</td>\n",
       "      <td>0</td>\n",
       "      <td>0</td>\n",
       "      <td>2.0</td>\n",
       "      <td>14377.688519</td>\n",
       "      <td>12.010</td>\n",
       "      <td>6.0</td>\n",
       "    </tr>\n",
       "  </tbody>\n",
       "</table>\n",
       "</div>"
      ],
      "text/plain": [
       "   Year  Month   Sales      CPI  Unemp_Rate  Wages  Cotton_Price  \\\n",
       "0  2009      1  1755.0  233.402         7.8  22.05        0.5770   \n",
       "1  2009      1   524.0  233.402         7.8  22.05        0.5770   \n",
       "2  2009      1   936.0  233.402         7.8  22.05        0.5770   \n",
       "3  2009      2  1729.0  234.663         8.3  22.22        0.5521   \n",
       "4  2009      2   496.0  234.663         8.3  22.22        0.5521   \n",
       "\n",
       "   Yield_Harvested  Production  Mill_Use  Exports  Temp_Avg   Dew_Avg  \\\n",
       "0              799      12.589      4.17    11.55 -2.096774 -9.903226   \n",
       "1              799      12.589      4.17    11.55 -2.096774 -9.903226   \n",
       "2              799      12.589      4.17    11.55 -2.096774 -9.903226   \n",
       "3              799      12.589      3.87    11.10  2.785714 -6.392857   \n",
       "4              799      12.589      3.87    11.10  2.785714 -6.392857   \n",
       "\n",
       "   Humidity_Avg      Sea_Avg  Visibility_Avg   Wind_Avg    Precip  Normal  \\\n",
       "0     57.354839  1015.967742       14.000000  12.000000  2.445806    21.0   \n",
       "1     57.354839  1015.967742       14.000000  12.000000  2.445806    21.0   \n",
       "2     57.354839  1015.967742       14.000000  12.000000  2.445806    21.0   \n",
       "3     54.000000  1017.071429       15.178571  12.214286  0.782500    22.0   \n",
       "4     54.000000  1017.071429       15.178571  12.214286  0.782500    22.0   \n",
       "\n",
       "   ProductCategory_OtherClothing  ProductCategory_WomenClothing  Holidays  \\\n",
       "0                              0                              1       3.0   \n",
       "1                              0                              0       3.0   \n",
       "2                              1                              0       3.0   \n",
       "3                              0                              1       2.0   \n",
       "4                              0                              0       2.0   \n",
       "\n",
       "            GDP  Interest_Rate  Bad_Weather  \n",
       "0  14414.403119         11.735         10.0  \n",
       "1  14414.403119         11.735         10.0  \n",
       "2  14414.403119         11.735         10.0  \n",
       "3  14377.688519         12.010          6.0  \n",
       "4  14377.688519         12.010          6.0  "
      ]
     },
     "execution_count": 146,
     "metadata": {},
     "output_type": "execute_result"
    }
   ],
   "source": [
    "train.head()"
   ]
  },
  {
   "cell_type": "code",
   "execution_count": 147,
   "metadata": {},
   "outputs": [
    {
     "data": {
      "text/html": [
       "<div>\n",
       "<style scoped>\n",
       "    .dataframe tbody tr th:only-of-type {\n",
       "        vertical-align: middle;\n",
       "    }\n",
       "\n",
       "    .dataframe tbody tr th {\n",
       "        vertical-align: top;\n",
       "    }\n",
       "\n",
       "    .dataframe thead th {\n",
       "        text-align: right;\n",
       "    }\n",
       "</style>\n",
       "<table border=\"1\" class=\"dataframe\">\n",
       "  <thead>\n",
       "    <tr style=\"text-align: right;\">\n",
       "      <th></th>\n",
       "      <th>Year</th>\n",
       "      <th>Month</th>\n",
       "      <th>CPI</th>\n",
       "      <th>Unemp_Rate</th>\n",
       "      <th>Wages</th>\n",
       "      <th>Cotton_Price</th>\n",
       "      <th>Yield_Harvested</th>\n",
       "      <th>Production</th>\n",
       "      <th>Mill_Use</th>\n",
       "      <th>Exports</th>\n",
       "      <th>Temp_Avg</th>\n",
       "      <th>Dew_Avg</th>\n",
       "      <th>Humidity_Avg</th>\n",
       "      <th>Sea_Avg</th>\n",
       "      <th>Visibility_Avg</th>\n",
       "      <th>Wind_Avg</th>\n",
       "      <th>Precip</th>\n",
       "      <th>Normal</th>\n",
       "      <th>ProductCategory_OtherClothing</th>\n",
       "      <th>ProductCategory_WomenClothing</th>\n",
       "      <th>Holidays</th>\n",
       "      <th>GDP</th>\n",
       "      <th>Interest_Rate</th>\n",
       "      <th>Bad_Weather</th>\n",
       "    </tr>\n",
       "  </thead>\n",
       "  <tbody>\n",
       "    <tr>\n",
       "      <th>0</th>\n",
       "      <td>2014</td>\n",
       "      <td>1</td>\n",
       "      <td>259.596</td>\n",
       "      <td>6.6</td>\n",
       "      <td>24.35</td>\n",
       "      <td>0.9096</td>\n",
       "      <td>807</td>\n",
       "      <td>12.551</td>\n",
       "      <td>3.58</td>\n",
       "      <td>9.75</td>\n",
       "      <td>-1.766667</td>\n",
       "      <td>-9.400000</td>\n",
       "      <td>59.433333</td>\n",
       "      <td>1019.200000</td>\n",
       "      <td>13.866667</td>\n",
       "      <td>10.10</td>\n",
       "      <td>2.000333</td>\n",
       "      <td>20.0</td>\n",
       "      <td>0</td>\n",
       "      <td>1</td>\n",
       "      <td>3.0</td>\n",
       "      <td>16330.790646</td>\n",
       "      <td>11.035</td>\n",
       "      <td>10.0</td>\n",
       "    </tr>\n",
       "    <tr>\n",
       "      <th>1</th>\n",
       "      <td>2014</td>\n",
       "      <td>1</td>\n",
       "      <td>259.596</td>\n",
       "      <td>6.6</td>\n",
       "      <td>24.35</td>\n",
       "      <td>0.9096</td>\n",
       "      <td>807</td>\n",
       "      <td>12.551</td>\n",
       "      <td>3.58</td>\n",
       "      <td>9.75</td>\n",
       "      <td>-1.766667</td>\n",
       "      <td>-9.400000</td>\n",
       "      <td>59.433333</td>\n",
       "      <td>1019.200000</td>\n",
       "      <td>13.866667</td>\n",
       "      <td>10.10</td>\n",
       "      <td>2.000333</td>\n",
       "      <td>20.0</td>\n",
       "      <td>0</td>\n",
       "      <td>0</td>\n",
       "      <td>3.0</td>\n",
       "      <td>16330.790646</td>\n",
       "      <td>11.035</td>\n",
       "      <td>10.0</td>\n",
       "    </tr>\n",
       "    <tr>\n",
       "      <th>2</th>\n",
       "      <td>2014</td>\n",
       "      <td>1</td>\n",
       "      <td>259.596</td>\n",
       "      <td>6.6</td>\n",
       "      <td>24.35</td>\n",
       "      <td>0.9096</td>\n",
       "      <td>807</td>\n",
       "      <td>12.551</td>\n",
       "      <td>3.58</td>\n",
       "      <td>9.75</td>\n",
       "      <td>-1.766667</td>\n",
       "      <td>-9.400000</td>\n",
       "      <td>59.433333</td>\n",
       "      <td>1019.200000</td>\n",
       "      <td>13.866667</td>\n",
       "      <td>10.10</td>\n",
       "      <td>2.000333</td>\n",
       "      <td>20.0</td>\n",
       "      <td>1</td>\n",
       "      <td>0</td>\n",
       "      <td>3.0</td>\n",
       "      <td>16330.790646</td>\n",
       "      <td>11.035</td>\n",
       "      <td>10.0</td>\n",
       "    </tr>\n",
       "    <tr>\n",
       "      <th>3</th>\n",
       "      <td>2014</td>\n",
       "      <td>2</td>\n",
       "      <td>259.019</td>\n",
       "      <td>6.7</td>\n",
       "      <td>24.58</td>\n",
       "      <td>0.9405</td>\n",
       "      <td>807</td>\n",
       "      <td>12.551</td>\n",
       "      <td>3.58</td>\n",
       "      <td>9.75</td>\n",
       "      <td>0.285714</td>\n",
       "      <td>-7.821429</td>\n",
       "      <td>58.714286</td>\n",
       "      <td>1016.964286</td>\n",
       "      <td>12.357143</td>\n",
       "      <td>10.25</td>\n",
       "      <td>4.972857</td>\n",
       "      <td>17.0</td>\n",
       "      <td>0</td>\n",
       "      <td>1</td>\n",
       "      <td>2.0</td>\n",
       "      <td>16395.592634</td>\n",
       "      <td>10.960</td>\n",
       "      <td>11.0</td>\n",
       "    </tr>\n",
       "    <tr>\n",
       "      <th>4</th>\n",
       "      <td>2014</td>\n",
       "      <td>2</td>\n",
       "      <td>259.019</td>\n",
       "      <td>6.7</td>\n",
       "      <td>24.58</td>\n",
       "      <td>0.9405</td>\n",
       "      <td>807</td>\n",
       "      <td>12.551</td>\n",
       "      <td>3.58</td>\n",
       "      <td>9.75</td>\n",
       "      <td>0.285714</td>\n",
       "      <td>-7.821429</td>\n",
       "      <td>58.714286</td>\n",
       "      <td>1016.964286</td>\n",
       "      <td>12.357143</td>\n",
       "      <td>10.25</td>\n",
       "      <td>4.972857</td>\n",
       "      <td>17.0</td>\n",
       "      <td>0</td>\n",
       "      <td>0</td>\n",
       "      <td>2.0</td>\n",
       "      <td>16395.592634</td>\n",
       "      <td>10.960</td>\n",
       "      <td>11.0</td>\n",
       "    </tr>\n",
       "  </tbody>\n",
       "</table>\n",
       "</div>"
      ],
      "text/plain": [
       "   Year  Month      CPI  Unemp_Rate  Wages  Cotton_Price  Yield_Harvested  \\\n",
       "0  2014      1  259.596         6.6  24.35        0.9096              807   \n",
       "1  2014      1  259.596         6.6  24.35        0.9096              807   \n",
       "2  2014      1  259.596         6.6  24.35        0.9096              807   \n",
       "3  2014      2  259.019         6.7  24.58        0.9405              807   \n",
       "4  2014      2  259.019         6.7  24.58        0.9405              807   \n",
       "\n",
       "   Production  Mill_Use  Exports  Temp_Avg   Dew_Avg  Humidity_Avg  \\\n",
       "0      12.551      3.58     9.75 -1.766667 -9.400000     59.433333   \n",
       "1      12.551      3.58     9.75 -1.766667 -9.400000     59.433333   \n",
       "2      12.551      3.58     9.75 -1.766667 -9.400000     59.433333   \n",
       "3      12.551      3.58     9.75  0.285714 -7.821429     58.714286   \n",
       "4      12.551      3.58     9.75  0.285714 -7.821429     58.714286   \n",
       "\n",
       "       Sea_Avg  Visibility_Avg  Wind_Avg    Precip  Normal  \\\n",
       "0  1019.200000       13.866667     10.10  2.000333    20.0   \n",
       "1  1019.200000       13.866667     10.10  2.000333    20.0   \n",
       "2  1019.200000       13.866667     10.10  2.000333    20.0   \n",
       "3  1016.964286       12.357143     10.25  4.972857    17.0   \n",
       "4  1016.964286       12.357143     10.25  4.972857    17.0   \n",
       "\n",
       "   ProductCategory_OtherClothing  ProductCategory_WomenClothing  Holidays  \\\n",
       "0                              0                              1       3.0   \n",
       "1                              0                              0       3.0   \n",
       "2                              1                              0       3.0   \n",
       "3                              0                              1       2.0   \n",
       "4                              0                              0       2.0   \n",
       "\n",
       "            GDP  Interest_Rate  Bad_Weather  \n",
       "0  16330.790646         11.035         10.0  \n",
       "1  16330.790646         11.035         10.0  \n",
       "2  16330.790646         11.035         10.0  \n",
       "3  16395.592634         10.960         11.0  \n",
       "4  16395.592634         10.960         11.0  "
      ]
     },
     "execution_count": 147,
     "metadata": {},
     "output_type": "execute_result"
    }
   ],
   "source": [
    "test.head()"
   ]
  },
  {
   "cell_type": "code",
   "execution_count": 148,
   "metadata": {},
   "outputs": [],
   "source": [
    "train = pd.get_dummies(train, drop_first = True)\n",
    "test = pd.get_dummies(test, drop_first = True)\n",
    "X_train = train.drop('Sales', 1)\n",
    "y = train['Sales']"
   ]
  },
  {
   "cell_type": "code",
   "execution_count": 149,
   "metadata": {},
   "outputs": [
    {
     "data": {
      "text/html": [
       "<div>\n",
       "<style scoped>\n",
       "    .dataframe tbody tr th:only-of-type {\n",
       "        vertical-align: middle;\n",
       "    }\n",
       "\n",
       "    .dataframe tbody tr th {\n",
       "        vertical-align: top;\n",
       "    }\n",
       "\n",
       "    .dataframe thead th {\n",
       "        text-align: right;\n",
       "    }\n",
       "</style>\n",
       "<table border=\"1\" class=\"dataframe\">\n",
       "  <thead>\n",
       "    <tr style=\"text-align: right;\">\n",
       "      <th></th>\n",
       "      <th>Year</th>\n",
       "      <th>Month</th>\n",
       "      <th>CPI</th>\n",
       "      <th>Unemp_Rate</th>\n",
       "      <th>Wages</th>\n",
       "      <th>Cotton_Price</th>\n",
       "      <th>Yield_Harvested</th>\n",
       "      <th>Production</th>\n",
       "      <th>Mill_Use</th>\n",
       "      <th>Exports</th>\n",
       "      <th>Temp_Avg</th>\n",
       "      <th>Dew_Avg</th>\n",
       "      <th>Humidity_Avg</th>\n",
       "      <th>Sea_Avg</th>\n",
       "      <th>Visibility_Avg</th>\n",
       "      <th>Wind_Avg</th>\n",
       "      <th>Precip</th>\n",
       "      <th>Normal</th>\n",
       "      <th>ProductCategory_OtherClothing</th>\n",
       "      <th>ProductCategory_WomenClothing</th>\n",
       "      <th>Holidays</th>\n",
       "      <th>GDP</th>\n",
       "      <th>Interest_Rate</th>\n",
       "      <th>Bad_Weather</th>\n",
       "    </tr>\n",
       "  </thead>\n",
       "  <tbody>\n",
       "    <tr>\n",
       "      <th>0</th>\n",
       "      <td>2009</td>\n",
       "      <td>1</td>\n",
       "      <td>233.402</td>\n",
       "      <td>7.8</td>\n",
       "      <td>22.05</td>\n",
       "      <td>0.5770</td>\n",
       "      <td>799</td>\n",
       "      <td>12.589</td>\n",
       "      <td>4.17</td>\n",
       "      <td>11.55</td>\n",
       "      <td>-2.096774</td>\n",
       "      <td>-9.903226</td>\n",
       "      <td>57.354839</td>\n",
       "      <td>1015.967742</td>\n",
       "      <td>14.000000</td>\n",
       "      <td>12.000000</td>\n",
       "      <td>2.445806</td>\n",
       "      <td>21.0</td>\n",
       "      <td>0</td>\n",
       "      <td>1</td>\n",
       "      <td>3.0</td>\n",
       "      <td>14414.403119</td>\n",
       "      <td>11.735</td>\n",
       "      <td>10.0</td>\n",
       "    </tr>\n",
       "    <tr>\n",
       "      <th>1</th>\n",
       "      <td>2009</td>\n",
       "      <td>1</td>\n",
       "      <td>233.402</td>\n",
       "      <td>7.8</td>\n",
       "      <td>22.05</td>\n",
       "      <td>0.5770</td>\n",
       "      <td>799</td>\n",
       "      <td>12.589</td>\n",
       "      <td>4.17</td>\n",
       "      <td>11.55</td>\n",
       "      <td>-2.096774</td>\n",
       "      <td>-9.903226</td>\n",
       "      <td>57.354839</td>\n",
       "      <td>1015.967742</td>\n",
       "      <td>14.000000</td>\n",
       "      <td>12.000000</td>\n",
       "      <td>2.445806</td>\n",
       "      <td>21.0</td>\n",
       "      <td>0</td>\n",
       "      <td>0</td>\n",
       "      <td>3.0</td>\n",
       "      <td>14414.403119</td>\n",
       "      <td>11.735</td>\n",
       "      <td>10.0</td>\n",
       "    </tr>\n",
       "    <tr>\n",
       "      <th>2</th>\n",
       "      <td>2009</td>\n",
       "      <td>1</td>\n",
       "      <td>233.402</td>\n",
       "      <td>7.8</td>\n",
       "      <td>22.05</td>\n",
       "      <td>0.5770</td>\n",
       "      <td>799</td>\n",
       "      <td>12.589</td>\n",
       "      <td>4.17</td>\n",
       "      <td>11.55</td>\n",
       "      <td>-2.096774</td>\n",
       "      <td>-9.903226</td>\n",
       "      <td>57.354839</td>\n",
       "      <td>1015.967742</td>\n",
       "      <td>14.000000</td>\n",
       "      <td>12.000000</td>\n",
       "      <td>2.445806</td>\n",
       "      <td>21.0</td>\n",
       "      <td>1</td>\n",
       "      <td>0</td>\n",
       "      <td>3.0</td>\n",
       "      <td>14414.403119</td>\n",
       "      <td>11.735</td>\n",
       "      <td>10.0</td>\n",
       "    </tr>\n",
       "    <tr>\n",
       "      <th>3</th>\n",
       "      <td>2009</td>\n",
       "      <td>2</td>\n",
       "      <td>234.663</td>\n",
       "      <td>8.3</td>\n",
       "      <td>22.22</td>\n",
       "      <td>0.5521</td>\n",
       "      <td>799</td>\n",
       "      <td>12.589</td>\n",
       "      <td>3.87</td>\n",
       "      <td>11.10</td>\n",
       "      <td>2.785714</td>\n",
       "      <td>-6.392857</td>\n",
       "      <td>54.000000</td>\n",
       "      <td>1017.071429</td>\n",
       "      <td>15.178571</td>\n",
       "      <td>12.214286</td>\n",
       "      <td>0.782500</td>\n",
       "      <td>22.0</td>\n",
       "      <td>0</td>\n",
       "      <td>1</td>\n",
       "      <td>2.0</td>\n",
       "      <td>14377.688519</td>\n",
       "      <td>12.010</td>\n",
       "      <td>6.0</td>\n",
       "    </tr>\n",
       "    <tr>\n",
       "      <th>4</th>\n",
       "      <td>2009</td>\n",
       "      <td>2</td>\n",
       "      <td>234.663</td>\n",
       "      <td>8.3</td>\n",
       "      <td>22.22</td>\n",
       "      <td>0.5521</td>\n",
       "      <td>799</td>\n",
       "      <td>12.589</td>\n",
       "      <td>3.87</td>\n",
       "      <td>11.10</td>\n",
       "      <td>2.785714</td>\n",
       "      <td>-6.392857</td>\n",
       "      <td>54.000000</td>\n",
       "      <td>1017.071429</td>\n",
       "      <td>15.178571</td>\n",
       "      <td>12.214286</td>\n",
       "      <td>0.782500</td>\n",
       "      <td>22.0</td>\n",
       "      <td>0</td>\n",
       "      <td>0</td>\n",
       "      <td>2.0</td>\n",
       "      <td>14377.688519</td>\n",
       "      <td>12.010</td>\n",
       "      <td>6.0</td>\n",
       "    </tr>\n",
       "  </tbody>\n",
       "</table>\n",
       "</div>"
      ],
      "text/plain": [
       "   Year  Month      CPI  Unemp_Rate  Wages  Cotton_Price  Yield_Harvested  \\\n",
       "0  2009      1  233.402         7.8  22.05        0.5770              799   \n",
       "1  2009      1  233.402         7.8  22.05        0.5770              799   \n",
       "2  2009      1  233.402         7.8  22.05        0.5770              799   \n",
       "3  2009      2  234.663         8.3  22.22        0.5521              799   \n",
       "4  2009      2  234.663         8.3  22.22        0.5521              799   \n",
       "\n",
       "   Production  Mill_Use  Exports  Temp_Avg   Dew_Avg  Humidity_Avg  \\\n",
       "0      12.589      4.17    11.55 -2.096774 -9.903226     57.354839   \n",
       "1      12.589      4.17    11.55 -2.096774 -9.903226     57.354839   \n",
       "2      12.589      4.17    11.55 -2.096774 -9.903226     57.354839   \n",
       "3      12.589      3.87    11.10  2.785714 -6.392857     54.000000   \n",
       "4      12.589      3.87    11.10  2.785714 -6.392857     54.000000   \n",
       "\n",
       "       Sea_Avg  Visibility_Avg   Wind_Avg    Precip  Normal  \\\n",
       "0  1015.967742       14.000000  12.000000  2.445806    21.0   \n",
       "1  1015.967742       14.000000  12.000000  2.445806    21.0   \n",
       "2  1015.967742       14.000000  12.000000  2.445806    21.0   \n",
       "3  1017.071429       15.178571  12.214286  0.782500    22.0   \n",
       "4  1017.071429       15.178571  12.214286  0.782500    22.0   \n",
       "\n",
       "   ProductCategory_OtherClothing  ProductCategory_WomenClothing  Holidays  \\\n",
       "0                              0                              1       3.0   \n",
       "1                              0                              0       3.0   \n",
       "2                              1                              0       3.0   \n",
       "3                              0                              1       2.0   \n",
       "4                              0                              0       2.0   \n",
       "\n",
       "            GDP  Interest_Rate  Bad_Weather  \n",
       "0  14414.403119         11.735         10.0  \n",
       "1  14414.403119         11.735         10.0  \n",
       "2  14414.403119         11.735         10.0  \n",
       "3  14377.688519         12.010          6.0  \n",
       "4  14377.688519         12.010          6.0  "
      ]
     },
     "execution_count": 149,
     "metadata": {},
     "output_type": "execute_result"
    }
   ],
   "source": [
    "X_train.head()"
   ]
  },
  {
   "cell_type": "markdown",
   "metadata": {},
   "source": [
    "#### RF"
   ]
  },
  {
   "cell_type": "code",
   "execution_count": 150,
   "metadata": {},
   "outputs": [
    {
     "data": {
      "text/plain": [
       "[(0.000420298078873163, 'Year'),\n",
       " (0.000661739968356576, 'Normal'),\n",
       " (0.0006862082421926048, 'Bad_Weather'),\n",
       " (0.000853558297636776, 'Precip'),\n",
       " (0.0008794670835396934, 'Mill_Use'),\n",
       " (0.0013578483997132987, 'Visibility_Avg'),\n",
       " (0.001658738582812249, 'Yield_Harvested'),\n",
       " (0.00167633218287758, 'Exports'),\n",
       " (0.0019284697472200915, 'Production'),\n",
       " (0.002001537363128499, 'Sea_Avg'),\n",
       " (0.002020406207376376, 'Wind_Avg'),\n",
       " (0.0020508896798121217, 'Interest_Rate'),\n",
       " (0.002190466817461625, 'Humidity_Avg'),\n",
       " (0.004093842066059423, 'Temp_Avg'),\n",
       " (0.004263555842542576, 'Dew_Avg'),\n",
       " (0.004633240354927401, 'Unemp_Rate'),\n",
       " (0.006491425123601775, 'Wages'),\n",
       " (0.008833936754487551, 'Cotton_Price'),\n",
       " (0.012008993069442506, 'CPI'),\n",
       " (0.01715269912398862, 'GDP'),\n",
       " (0.01927697784291461, 'Holidays'),\n",
       " (0.02137335533088042, 'ProductCategory_OtherClothing'),\n",
       " (0.03276092692081061, 'Month'),\n",
       " (0.8507250869193438, 'ProductCategory_WomenClothing')]"
      ]
     },
     "execution_count": 150,
     "metadata": {},
     "output_type": "execute_result"
    }
   ],
   "source": [
    "rfr = RandomForestRegressor(random_state = 0)\n",
    "rfr.fit(X_train, y)\n",
    "imp = list(zip(rfr.feature_importances_, X_train.columns))\n",
    "sorted(imp)"
   ]
  },
  {
   "cell_type": "markdown",
   "metadata": {},
   "source": [
    "#### GBR"
   ]
  },
  {
   "cell_type": "code",
   "execution_count": 117,
   "metadata": {},
   "outputs": [
    {
     "data": {
      "text/plain": [
       "0.9987631267566738"
      ]
     },
     "execution_count": 117,
     "metadata": {},
     "output_type": "execute_result"
    }
   ],
   "source": [
    "gbr = GradientBoostingRegressor(random_state = 0)\n",
    "gbr.fit(X_train, y)\n",
    "gbr.score(X_train, y)"
   ]
  },
  {
   "cell_type": "markdown",
   "metadata": {},
   "source": [
    "##### Tuning GBR"
   ]
  },
  {
   "cell_type": "code",
   "execution_count": 108,
   "metadata": {},
   "outputs": [
    {
     "name": "stdout",
     "output_type": "stream",
     "text": [
      "{'learning_rate': 0.2844067519636624, 'max_depth': 2, 'max_features': 4, 'min_samples_leaf': 4, 'min_samples_split': 9, 'n_estimators': 59}\n"
     ]
    }
   ],
   "source": [
    "gbr = GradientBoostingRegressor(random_state = 0)\n",
    "\n",
    "params = {'n_estimators' : sp_randint(50, 200),\n",
    "          'max_features' : sp_randint(1, 5),\n",
    "          'max_depth' : sp_randint(2, 20),\n",
    "          'min_samples_leaf' : sp_randint(1, 10),\n",
    "          'min_samples_split' : sp_randint(2, 10),\n",
    "          'learning_rate' : sp_uniform(0.01, 0.5)}\n",
    "\n",
    "rsearch_gbr = RandomizedSearchCV(gbr, param_distributions = params, n_jobs = -1,\n",
    "                                 cv = 5, n_iter = 100, random_state = 0)\n",
    "\n",
    "rsearch_gbr.fit(X_train, y)\n",
    "print(rsearch_gbr.best_params_)"
   ]
  },
  {
   "cell_type": "markdown",
   "metadata": {},
   "source": [
    "###### Tuned GBR"
   ]
  },
  {
   "cell_type": "code",
   "execution_count": 109,
   "metadata": {},
   "outputs": [
    {
     "data": {
      "text/plain": [
       "0.9783609661980899"
      ]
     },
     "execution_count": 109,
     "metadata": {},
     "output_type": "execute_result"
    }
   ],
   "source": [
    "gbr = GradientBoostingRegressor(**rsearch_gbr.best_params_, random_state = 0)\n",
    "gbr.fit(X_train, y)\n",
    "gbr.score(X_train, y)"
   ]
  },
  {
   "cell_type": "markdown",
   "metadata": {},
   "source": [
    "#### LGBMR"
   ]
  },
  {
   "cell_type": "code",
   "execution_count": 151,
   "metadata": {},
   "outputs": [
    {
     "data": {
      "text/plain": [
       "0.9858297595801896"
      ]
     },
     "execution_count": 151,
     "metadata": {},
     "output_type": "execute_result"
    }
   ],
   "source": [
    "lgbmr = lgb.LGBMRegressor(random_state = 0)\n",
    "lgbmr.fit(X_train, y)\n",
    "lgbmr.score(X_train, y)"
   ]
  },
  {
   "cell_type": "markdown",
   "metadata": {},
   "source": [
    "##### Tuning LGBMR"
   ]
  },
  {
   "cell_type": "code",
   "execution_count": 115,
   "metadata": {},
   "outputs": [
    {
     "name": "stdout",
     "output_type": "stream",
     "text": [
      "{'learning_rate': 0.27051830310206465, 'max_depth': 2, 'n_estimators': 183}\n"
     ]
    }
   ],
   "source": [
    "lgbmr = lgb.LGBMRegressor(random_state = 0)\n",
    "\n",
    "params = {'n_estimators' : sp_randint(50, 200),\n",
    "         'max_depth' : sp_randint(1, 25),\n",
    "         'learning_rate' : sp_uniform(0.01, 0.5)}\n",
    "\n",
    "rsearch_lgbm = RandomizedSearchCV(lgbmr, param_distributions = params,\n",
    "                                 cv = 5, n_iter = 100, n_jobs = -1, random_state = 0)\n",
    "\n",
    "rsearch_lgbm.fit(X_train, y)\n",
    "print(rsearch_lgbm.best_params_)"
   ]
  },
  {
   "cell_type": "markdown",
   "metadata": {},
   "source": [
    "###### Tuned LGBMR"
   ]
  },
  {
   "cell_type": "code",
   "execution_count": 118,
   "metadata": {},
   "outputs": [
    {
     "data": {
      "text/plain": [
       "0.9920664311076858"
      ]
     },
     "execution_count": 118,
     "metadata": {},
     "output_type": "execute_result"
    }
   ],
   "source": [
    "lgbmr = lgb.LGBMRegressor(**rsearch_lgbm.best_params_, random_state = 0)\n",
    "lgbmr.fit(X_train, y)\n",
    "lgbmr.score(X_train, y)"
   ]
  },
  {
   "cell_type": "code",
   "execution_count": 133,
   "metadata": {},
   "outputs": [
    {
     "data": {
      "text/html": [
       "<div>\n",
       "<style scoped>\n",
       "    .dataframe tbody tr th:only-of-type {\n",
       "        vertical-align: middle;\n",
       "    }\n",
       "\n",
       "    .dataframe tbody tr th {\n",
       "        vertical-align: top;\n",
       "    }\n",
       "\n",
       "    .dataframe thead th {\n",
       "        text-align: right;\n",
       "    }\n",
       "</style>\n",
       "<table border=\"1\" class=\"dataframe\">\n",
       "  <thead>\n",
       "    <tr style=\"text-align: right;\">\n",
       "      <th></th>\n",
       "      <th>Year</th>\n",
       "      <th>Month</th>\n",
       "      <th>CPI</th>\n",
       "      <th>Unemp_Rate</th>\n",
       "      <th>Wages</th>\n",
       "      <th>Cotton_Price</th>\n",
       "      <th>Yield_Harvested</th>\n",
       "      <th>Production</th>\n",
       "      <th>Mill_Use</th>\n",
       "      <th>Exports</th>\n",
       "      <th>Temp_Avg</th>\n",
       "      <th>Dew_Avg</th>\n",
       "      <th>Humidity_Avg</th>\n",
       "      <th>Sea_Avg</th>\n",
       "      <th>Visibility_Avg</th>\n",
       "      <th>Wind_Avg</th>\n",
       "      <th>Precip</th>\n",
       "      <th>Normal</th>\n",
       "      <th>Holidays</th>\n",
       "      <th>GDP</th>\n",
       "      <th>Interest_Rate</th>\n",
       "      <th>Bad_Weather</th>\n",
       "      <th>ProductCategory_OtherClothing</th>\n",
       "      <th>ProductCategory_WomenClothing</th>\n",
       "    </tr>\n",
       "  </thead>\n",
       "  <tbody>\n",
       "    <tr>\n",
       "      <th>0</th>\n",
       "      <td>1</td>\n",
       "      <td>1</td>\n",
       "      <td>2</td>\n",
       "      <td>3</td>\n",
       "      <td>3</td>\n",
       "      <td>4</td>\n",
       "      <td>5</td>\n",
       "      <td>8</td>\n",
       "      <td>8</td>\n",
       "      <td>9</td>\n",
       "      <td>11</td>\n",
       "      <td>11</td>\n",
       "      <td>12</td>\n",
       "      <td>12</td>\n",
       "      <td>13</td>\n",
       "      <td>14</td>\n",
       "      <td>18</td>\n",
       "      <td>18</td>\n",
       "      <td>21</td>\n",
       "      <td>24</td>\n",
       "      <td>31</td>\n",
       "      <td>34</td>\n",
       "      <td>74</td>\n",
       "      <td>133</td>\n",
       "    </tr>\n",
       "  </tbody>\n",
       "</table>\n",
       "</div>"
      ],
      "text/plain": [
       "   Year  Month  CPI  Unemp_Rate  Wages  Cotton_Price  Yield_Harvested  \\\n",
       "0     1      1    2           3      3             4                5   \n",
       "\n",
       "   Production  Mill_Use  Exports  Temp_Avg  Dew_Avg  Humidity_Avg  Sea_Avg  \\\n",
       "0           8         8        9        11       11            12       12   \n",
       "\n",
       "   Visibility_Avg  Wind_Avg  Precip  Normal  Holidays  GDP  Interest_Rate  \\\n",
       "0              13        14      18      18        21   24             31   \n",
       "\n",
       "   Bad_Weather  ProductCategory_OtherClothing  ProductCategory_WomenClothing  \n",
       "0           34                             74                            133  "
      ]
     },
     "execution_count": 133,
     "metadata": {},
     "output_type": "execute_result"
    }
   ],
   "source": [
    "imp = pd.DataFrame(sorted(lgbmr.feature_importances_), index = X_train.columns)\n",
    "imp.T"
   ]
  },
  {
   "cell_type": "markdown",
   "metadata": {},
   "source": [
    "#### Submission"
   ]
  },
  {
   "cell_type": "code",
   "execution_count": 119,
   "metadata": {},
   "outputs": [],
   "source": [
    "pred = lgbmr.predict(test)"
   ]
  },
  {
   "cell_type": "code",
   "execution_count": 120,
   "metadata": {},
   "outputs": [],
   "source": [
    "kaggle = pd.read_csv('Kaggle_Submission_Format.csv')"
   ]
  },
  {
   "cell_type": "code",
   "execution_count": 121,
   "metadata": {},
   "outputs": [],
   "source": [
    "kaggle['Sales(In ThousandDollars)'] = pred"
   ]
  },
  {
   "cell_type": "code",
   "execution_count": 122,
   "metadata": {},
   "outputs": [
    {
     "data": {
      "text/html": [
       "<div>\n",
       "<style scoped>\n",
       "    .dataframe tbody tr th:only-of-type {\n",
       "        vertical-align: middle;\n",
       "    }\n",
       "\n",
       "    .dataframe tbody tr th {\n",
       "        vertical-align: top;\n",
       "    }\n",
       "\n",
       "    .dataframe thead th {\n",
       "        text-align: right;\n",
       "    }\n",
       "</style>\n",
       "<table border=\"1\" class=\"dataframe\">\n",
       "  <thead>\n",
       "    <tr style=\"text-align: right;\">\n",
       "      <th></th>\n",
       "      <th>Year</th>\n",
       "      <th>Sales(In ThousandDollars)</th>\n",
       "    </tr>\n",
       "  </thead>\n",
       "  <tbody>\n",
       "    <tr>\n",
       "      <th>0</th>\n",
       "      <td>1</td>\n",
       "      <td>2846.115314</td>\n",
       "    </tr>\n",
       "    <tr>\n",
       "      <th>1</th>\n",
       "      <td>2</td>\n",
       "      <td>524.765774</td>\n",
       "    </tr>\n",
       "    <tr>\n",
       "      <th>2</th>\n",
       "      <td>3</td>\n",
       "      <td>1021.004052</td>\n",
       "    </tr>\n",
       "    <tr>\n",
       "      <th>3</th>\n",
       "      <td>4</td>\n",
       "      <td>3212.268399</td>\n",
       "    </tr>\n",
       "    <tr>\n",
       "      <th>4</th>\n",
       "      <td>5</td>\n",
       "      <td>673.101537</td>\n",
       "    </tr>\n",
       "  </tbody>\n",
       "</table>\n",
       "</div>"
      ],
      "text/plain": [
       "   Year  Sales(In ThousandDollars)\n",
       "0     1                2846.115314\n",
       "1     2                 524.765774\n",
       "2     3                1021.004052\n",
       "3     4                3212.268399\n",
       "4     5                 673.101537"
      ]
     },
     "execution_count": 122,
     "metadata": {},
     "output_type": "execute_result"
    }
   ],
   "source": [
    "kaggle.to_csv('Iteration_7_lgbmr_all_reduced.csv', index = False)\n",
    "kaggle.head()"
   ]
  },
  {
   "cell_type": "code",
   "execution_count": 178,
   "metadata": {},
   "outputs": [
    {
     "data": {
      "text/html": [
       "<div>\n",
       "<style scoped>\n",
       "    .dataframe tbody tr th:only-of-type {\n",
       "        vertical-align: middle;\n",
       "    }\n",
       "\n",
       "    .dataframe tbody tr th {\n",
       "        vertical-align: top;\n",
       "    }\n",
       "\n",
       "    .dataframe thead th {\n",
       "        text-align: right;\n",
       "    }\n",
       "</style>\n",
       "<table border=\"1\" class=\"dataframe\">\n",
       "  <thead>\n",
       "    <tr style=\"text-align: right;\">\n",
       "      <th></th>\n",
       "      <th>Year</th>\n",
       "      <th>Month</th>\n",
       "      <th>ProductCategory</th>\n",
       "      <th>Sales</th>\n",
       "      <th>Avg_Sales</th>\n",
       "      <th>Sales_Lag1</th>\n",
       "      <th>Event</th>\n",
       "      <th>Federal Holiday</th>\n",
       "    </tr>\n",
       "  </thead>\n",
       "  <tbody>\n",
       "    <tr>\n",
       "      <th>0</th>\n",
       "      <td>2009</td>\n",
       "      <td>1</td>\n",
       "      <td>WomenClothing</td>\n",
       "      <td>1755.0</td>\n",
       "      <td>1215.466667</td>\n",
       "      <td>4442.8</td>\n",
       "      <td>0.0</td>\n",
       "      <td>3.0</td>\n",
       "    </tr>\n",
       "    <tr>\n",
       "      <th>1</th>\n",
       "      <td>2009</td>\n",
       "      <td>1</td>\n",
       "      <td>MenClothing</td>\n",
       "      <td>524.0</td>\n",
       "      <td>1215.466667</td>\n",
       "      <td>1032.8</td>\n",
       "      <td>0.0</td>\n",
       "      <td>3.0</td>\n",
       "    </tr>\n",
       "    <tr>\n",
       "      <th>2</th>\n",
       "      <td>2009</td>\n",
       "      <td>1</td>\n",
       "      <td>OtherClothing</td>\n",
       "      <td>936.0</td>\n",
       "      <td>1215.466667</td>\n",
       "      <td>1477.2</td>\n",
       "      <td>0.0</td>\n",
       "      <td>3.0</td>\n",
       "    </tr>\n",
       "    <tr>\n",
       "      <th>3</th>\n",
       "      <td>2009</td>\n",
       "      <td>2</td>\n",
       "      <td>WomenClothing</td>\n",
       "      <td>1729.0</td>\n",
       "      <td>1308.433333</td>\n",
       "      <td>1755.0</td>\n",
       "      <td>1.0</td>\n",
       "      <td>1.0</td>\n",
       "    </tr>\n",
       "    <tr>\n",
       "      <th>4</th>\n",
       "      <td>2009</td>\n",
       "      <td>2</td>\n",
       "      <td>MenClothing</td>\n",
       "      <td>496.0</td>\n",
       "      <td>1308.433333</td>\n",
       "      <td>524.0</td>\n",
       "      <td>1.0</td>\n",
       "      <td>1.0</td>\n",
       "    </tr>\n",
       "  </tbody>\n",
       "</table>\n",
       "</div>"
      ],
      "text/plain": [
       "   Year  Month ProductCategory   Sales    Avg_Sales  Sales_Lag1  Event  \\\n",
       "0  2009      1   WomenClothing  1755.0  1215.466667      4442.8    0.0   \n",
       "1  2009      1     MenClothing   524.0  1215.466667      1032.8    0.0   \n",
       "2  2009      1   OtherClothing   936.0  1215.466667      1477.2    0.0   \n",
       "3  2009      2   WomenClothing  1729.0  1308.433333      1755.0    1.0   \n",
       "4  2009      2     MenClothing   496.0  1308.433333       524.0    1.0   \n",
       "\n",
       "   Federal Holiday  \n",
       "0              3.0  \n",
       "1              3.0  \n",
       "2              3.0  \n",
       "3              1.0  \n",
       "4              1.0  "
      ]
     },
     "execution_count": 178,
     "metadata": {},
     "output_type": "execute_result"
    }
   ],
   "source": [
    "train = pd.read_csv('train_events.csv')\n",
    "train.head()"
   ]
  },
  {
   "cell_type": "code",
   "execution_count": 179,
   "metadata": {},
   "outputs": [
    {
     "data": {
      "text/html": [
       "<div>\n",
       "<style scoped>\n",
       "    .dataframe tbody tr th:only-of-type {\n",
       "        vertical-align: middle;\n",
       "    }\n",
       "\n",
       "    .dataframe tbody tr th {\n",
       "        vertical-align: top;\n",
       "    }\n",
       "\n",
       "    .dataframe thead th {\n",
       "        text-align: right;\n",
       "    }\n",
       "</style>\n",
       "<table border=\"1\" class=\"dataframe\">\n",
       "  <thead>\n",
       "    <tr style=\"text-align: right;\">\n",
       "      <th></th>\n",
       "      <th>Year</th>\n",
       "      <th>Month</th>\n",
       "      <th>ProductCategory</th>\n",
       "      <th>Avg_Sales</th>\n",
       "      <th>Sales_Lag1</th>\n",
       "      <th>Event</th>\n",
       "      <th>Federal Holiday</th>\n",
       "    </tr>\n",
       "  </thead>\n",
       "  <tbody>\n",
       "    <tr>\n",
       "      <th>0</th>\n",
       "      <td>2014</td>\n",
       "      <td>1</td>\n",
       "      <td>WomenClothing</td>\n",
       "      <td>1215.466667</td>\n",
       "      <td>4865.0</td>\n",
       "      <td>0.0</td>\n",
       "      <td>3.0</td>\n",
       "    </tr>\n",
       "    <tr>\n",
       "      <th>1</th>\n",
       "      <td>2014</td>\n",
       "      <td>1</td>\n",
       "      <td>MenClothing</td>\n",
       "      <td>1215.466667</td>\n",
       "      <td>1085.0</td>\n",
       "      <td>0.0</td>\n",
       "      <td>3.0</td>\n",
       "    </tr>\n",
       "    <tr>\n",
       "      <th>2</th>\n",
       "      <td>2014</td>\n",
       "      <td>1</td>\n",
       "      <td>OtherClothing</td>\n",
       "      <td>1215.466667</td>\n",
       "      <td>1566.0</td>\n",
       "      <td>0.0</td>\n",
       "      <td>3.0</td>\n",
       "    </tr>\n",
       "    <tr>\n",
       "      <th>3</th>\n",
       "      <td>2014</td>\n",
       "      <td>2</td>\n",
       "      <td>WomenClothing</td>\n",
       "      <td>1308.433333</td>\n",
       "      <td>2139.4</td>\n",
       "      <td>1.0</td>\n",
       "      <td>1.0</td>\n",
       "    </tr>\n",
       "    <tr>\n",
       "      <th>4</th>\n",
       "      <td>2014</td>\n",
       "      <td>2</td>\n",
       "      <td>MenClothing</td>\n",
       "      <td>1308.433333</td>\n",
       "      <td>522.2</td>\n",
       "      <td>1.0</td>\n",
       "      <td>1.0</td>\n",
       "    </tr>\n",
       "  </tbody>\n",
       "</table>\n",
       "</div>"
      ],
      "text/plain": [
       "   Year  Month ProductCategory    Avg_Sales  Sales_Lag1  Event  \\\n",
       "0  2014      1   WomenClothing  1215.466667      4865.0    0.0   \n",
       "1  2014      1     MenClothing  1215.466667      1085.0    0.0   \n",
       "2  2014      1   OtherClothing  1215.466667      1566.0    0.0   \n",
       "3  2014      2   WomenClothing  1308.433333      2139.4    1.0   \n",
       "4  2014      2     MenClothing  1308.433333       522.2    1.0   \n",
       "\n",
       "   Federal Holiday  \n",
       "0              3.0  \n",
       "1              3.0  \n",
       "2              3.0  \n",
       "3              1.0  \n",
       "4              1.0  "
      ]
     },
     "execution_count": 179,
     "metadata": {},
     "output_type": "execute_result"
    }
   ],
   "source": [
    "test = pd.read_csv('test_events.csv')\n",
    "test.head()"
   ]
  },
  {
   "cell_type": "code",
   "execution_count": 184,
   "metadata": {},
   "outputs": [
    {
     "data": {
      "text/html": [
       "<div>\n",
       "<style scoped>\n",
       "    .dataframe tbody tr th:only-of-type {\n",
       "        vertical-align: middle;\n",
       "    }\n",
       "\n",
       "    .dataframe tbody tr th {\n",
       "        vertical-align: top;\n",
       "    }\n",
       "\n",
       "    .dataframe thead th {\n",
       "        text-align: right;\n",
       "    }\n",
       "</style>\n",
       "<table border=\"1\" class=\"dataframe\">\n",
       "  <thead>\n",
       "    <tr style=\"text-align: right;\">\n",
       "      <th></th>\n",
       "      <th>Year</th>\n",
       "      <th>Month</th>\n",
       "      <th>Sales</th>\n",
       "      <th>Avg_Sales</th>\n",
       "      <th>Sales_Lag1</th>\n",
       "      <th>Event</th>\n",
       "      <th>Federal Holiday</th>\n",
       "      <th>ProductCategory_OtherClothing</th>\n",
       "      <th>ProductCategory_WomenClothing</th>\n",
       "    </tr>\n",
       "  </thead>\n",
       "  <tbody>\n",
       "    <tr>\n",
       "      <th>0</th>\n",
       "      <td>2009</td>\n",
       "      <td>1</td>\n",
       "      <td>1755.0</td>\n",
       "      <td>1215.466667</td>\n",
       "      <td>4442.8</td>\n",
       "      <td>0.0</td>\n",
       "      <td>3.0</td>\n",
       "      <td>0</td>\n",
       "      <td>1</td>\n",
       "    </tr>\n",
       "    <tr>\n",
       "      <th>1</th>\n",
       "      <td>2009</td>\n",
       "      <td>1</td>\n",
       "      <td>524.0</td>\n",
       "      <td>1215.466667</td>\n",
       "      <td>1032.8</td>\n",
       "      <td>0.0</td>\n",
       "      <td>3.0</td>\n",
       "      <td>0</td>\n",
       "      <td>0</td>\n",
       "    </tr>\n",
       "    <tr>\n",
       "      <th>2</th>\n",
       "      <td>2009</td>\n",
       "      <td>1</td>\n",
       "      <td>936.0</td>\n",
       "      <td>1215.466667</td>\n",
       "      <td>1477.2</td>\n",
       "      <td>0.0</td>\n",
       "      <td>3.0</td>\n",
       "      <td>1</td>\n",
       "      <td>0</td>\n",
       "    </tr>\n",
       "    <tr>\n",
       "      <th>3</th>\n",
       "      <td>2009</td>\n",
       "      <td>2</td>\n",
       "      <td>1729.0</td>\n",
       "      <td>1308.433333</td>\n",
       "      <td>1755.0</td>\n",
       "      <td>1.0</td>\n",
       "      <td>1.0</td>\n",
       "      <td>0</td>\n",
       "      <td>1</td>\n",
       "    </tr>\n",
       "    <tr>\n",
       "      <th>4</th>\n",
       "      <td>2009</td>\n",
       "      <td>2</td>\n",
       "      <td>496.0</td>\n",
       "      <td>1308.433333</td>\n",
       "      <td>524.0</td>\n",
       "      <td>1.0</td>\n",
       "      <td>1.0</td>\n",
       "      <td>0</td>\n",
       "      <td>0</td>\n",
       "    </tr>\n",
       "  </tbody>\n",
       "</table>\n",
       "</div>"
      ],
      "text/plain": [
       "   Year  Month   Sales    Avg_Sales  Sales_Lag1  Event  Federal Holiday  \\\n",
       "0  2009      1  1755.0  1215.466667      4442.8    0.0              3.0   \n",
       "1  2009      1   524.0  1215.466667      1032.8    0.0              3.0   \n",
       "2  2009      1   936.0  1215.466667      1477.2    0.0              3.0   \n",
       "3  2009      2  1729.0  1308.433333      1755.0    1.0              1.0   \n",
       "4  2009      2   496.0  1308.433333       524.0    1.0              1.0   \n",
       "\n",
       "   ProductCategory_OtherClothing  ProductCategory_WomenClothing  \n",
       "0                              0                              1  \n",
       "1                              0                              0  \n",
       "2                              1                              0  \n",
       "3                              0                              1  \n",
       "4                              0                              0  "
      ]
     },
     "metadata": {},
     "output_type": "display_data"
    },
    {
     "data": {
      "text/html": [
       "<div>\n",
       "<style scoped>\n",
       "    .dataframe tbody tr th:only-of-type {\n",
       "        vertical-align: middle;\n",
       "    }\n",
       "\n",
       "    .dataframe tbody tr th {\n",
       "        vertical-align: top;\n",
       "    }\n",
       "\n",
       "    .dataframe thead th {\n",
       "        text-align: right;\n",
       "    }\n",
       "</style>\n",
       "<table border=\"1\" class=\"dataframe\">\n",
       "  <thead>\n",
       "    <tr style=\"text-align: right;\">\n",
       "      <th></th>\n",
       "      <th>Year</th>\n",
       "      <th>Month</th>\n",
       "      <th>Avg_Sales</th>\n",
       "      <th>Sales_Lag1</th>\n",
       "      <th>Event</th>\n",
       "      <th>Federal Holiday</th>\n",
       "      <th>ProductCategory_OtherClothing</th>\n",
       "      <th>ProductCategory_WomenClothing</th>\n",
       "    </tr>\n",
       "  </thead>\n",
       "  <tbody>\n",
       "    <tr>\n",
       "      <th>0</th>\n",
       "      <td>2014</td>\n",
       "      <td>1</td>\n",
       "      <td>1215.466667</td>\n",
       "      <td>4865.0</td>\n",
       "      <td>0.0</td>\n",
       "      <td>3.0</td>\n",
       "      <td>0</td>\n",
       "      <td>1</td>\n",
       "    </tr>\n",
       "    <tr>\n",
       "      <th>1</th>\n",
       "      <td>2014</td>\n",
       "      <td>1</td>\n",
       "      <td>1215.466667</td>\n",
       "      <td>1085.0</td>\n",
       "      <td>0.0</td>\n",
       "      <td>3.0</td>\n",
       "      <td>0</td>\n",
       "      <td>0</td>\n",
       "    </tr>\n",
       "    <tr>\n",
       "      <th>2</th>\n",
       "      <td>2014</td>\n",
       "      <td>1</td>\n",
       "      <td>1215.466667</td>\n",
       "      <td>1566.0</td>\n",
       "      <td>0.0</td>\n",
       "      <td>3.0</td>\n",
       "      <td>1</td>\n",
       "      <td>0</td>\n",
       "    </tr>\n",
       "    <tr>\n",
       "      <th>3</th>\n",
       "      <td>2014</td>\n",
       "      <td>2</td>\n",
       "      <td>1308.433333</td>\n",
       "      <td>2139.4</td>\n",
       "      <td>1.0</td>\n",
       "      <td>1.0</td>\n",
       "      <td>0</td>\n",
       "      <td>1</td>\n",
       "    </tr>\n",
       "    <tr>\n",
       "      <th>4</th>\n",
       "      <td>2014</td>\n",
       "      <td>2</td>\n",
       "      <td>1308.433333</td>\n",
       "      <td>522.2</td>\n",
       "      <td>1.0</td>\n",
       "      <td>1.0</td>\n",
       "      <td>0</td>\n",
       "      <td>0</td>\n",
       "    </tr>\n",
       "  </tbody>\n",
       "</table>\n",
       "</div>"
      ],
      "text/plain": [
       "   Year  Month    Avg_Sales  Sales_Lag1  Event  Federal Holiday  \\\n",
       "0  2014      1  1215.466667      4865.0    0.0              3.0   \n",
       "1  2014      1  1215.466667      1085.0    0.0              3.0   \n",
       "2  2014      1  1215.466667      1566.0    0.0              3.0   \n",
       "3  2014      2  1308.433333      2139.4    1.0              1.0   \n",
       "4  2014      2  1308.433333       522.2    1.0              1.0   \n",
       "\n",
       "   ProductCategory_OtherClothing  ProductCategory_WomenClothing  \n",
       "0                              0                              1  \n",
       "1                              0                              0  \n",
       "2                              1                              0  \n",
       "3                              0                              1  \n",
       "4                              0                              0  "
      ]
     },
     "metadata": {},
     "output_type": "display_data"
    }
   ],
   "source": [
    "train = pd.get_dummies(train, drop_first = True)\n",
    "test = pd.get_dummies(test, drop_first = True)\n",
    "display(train.head())\n",
    "display(test.head())"
   ]
  },
  {
   "cell_type": "markdown",
   "metadata": {},
   "source": [
    "### Splitting"
   ]
  },
  {
   "cell_type": "code",
   "execution_count": 185,
   "metadata": {},
   "outputs": [
    {
     "data": {
      "text/plain": [
       "((60, 9), (60, 9), (60, 9))"
      ]
     },
     "execution_count": 185,
     "metadata": {},
     "output_type": "execute_result"
    }
   ],
   "source": [
    "train_men = train[(train['ProductCategory_OtherClothing'] == 0) & (train['ProductCategory_WomenClothing'] == 0)]\n",
    "train_women = train[(train['ProductCategory_OtherClothing'] == 0) & (train['ProductCategory_WomenClothing'] == 1)]\n",
    "train_other = train[(train['ProductCategory_OtherClothing'] == 1) & (train['ProductCategory_WomenClothing'] == 0)]\n",
    "train_men.shape, train_women.shape, train_other.shape"
   ]
  },
  {
   "cell_type": "code",
   "execution_count": 186,
   "metadata": {},
   "outputs": [
    {
     "data": {
      "text/plain": [
       "((12, 8), (12, 8), (12, 8))"
      ]
     },
     "execution_count": 186,
     "metadata": {},
     "output_type": "execute_result"
    }
   ],
   "source": [
    "test_men = test[(test['ProductCategory_OtherClothing'] == 0) & (test['ProductCategory_WomenClothing'] == 0)]\n",
    "test_women = test[(test['ProductCategory_OtherClothing'] == 0) & (test['ProductCategory_WomenClothing'] == 1)]\n",
    "test_other = test[(test['ProductCategory_OtherClothing'] == 1) & (test['ProductCategory_WomenClothing'] == 0)]\n",
    "test_men.shape, test_women.shape, test_other.shape"
   ]
  },
  {
   "cell_type": "code",
   "execution_count": 187,
   "metadata": {},
   "outputs": [],
   "source": [
    "X_train_men = train_men.drop(['Sales'],1)\n",
    "X_train_women = train_women.drop(['Sales'],1)\n",
    "X_train_other = train_other.drop(['Sales'],1)\n",
    "y_men = train_men['Sales']\n",
    "y_women = train_women['Sales']\n",
    "y_other = train_other['Sales']"
   ]
  },
  {
   "cell_type": "markdown",
   "metadata": {},
   "source": [
    "#### LGBMR"
   ]
  },
  {
   "cell_type": "code",
   "execution_count": 188,
   "metadata": {},
   "outputs": [
    {
     "data": {
      "text/plain": [
       "0.726899334626814"
      ]
     },
     "execution_count": 188,
     "metadata": {},
     "output_type": "execute_result"
    }
   ],
   "source": [
    "lgbmr1 = lgb.LGBMRegressor(random_state = 0)\n",
    "lgbmr1.fit(X_train_men, y_men)\n",
    "lgbmr1.score(X_train_men, y_men)"
   ]
  },
  {
   "cell_type": "code",
   "execution_count": 189,
   "metadata": {},
   "outputs": [
    {
     "data": {
      "text/plain": [
       "0.7694505721163527"
      ]
     },
     "execution_count": 189,
     "metadata": {},
     "output_type": "execute_result"
    }
   ],
   "source": [
    "lgbmr2 = lgb.LGBMRegressor(random_state = 0)\n",
    "lgbmr2.fit(X_train_women, y_women)\n",
    "lgbmr2.score(X_train_women, y_women)"
   ]
  },
  {
   "cell_type": "code",
   "execution_count": 190,
   "metadata": {},
   "outputs": [
    {
     "data": {
      "text/plain": [
       "0.7362196222292795"
      ]
     },
     "execution_count": 190,
     "metadata": {},
     "output_type": "execute_result"
    }
   ],
   "source": [
    "lgbmr3 = lgb.LGBMRegressor(random_state = 0)\n",
    "lgbmr3.fit(X_train_other, y_other)\n",
    "lgbmr3.score(X_train_other, y_other)"
   ]
  },
  {
   "cell_type": "markdown",
   "metadata": {},
   "source": [
    "##### Tuning LGBMR"
   ]
  },
  {
   "cell_type": "code",
   "execution_count": 191,
   "metadata": {},
   "outputs": [
    {
     "name": "stdout",
     "output_type": "stream",
     "text": [
      "{'learning_rate': 0.4799771723750573, 'max_depth': 18, 'n_estimators': 75}\n"
     ]
    }
   ],
   "source": [
    "lgbmr1 = lgb.LGBMRegressor(random_state = 0)\n",
    "\n",
    "params = {'n_estimators' : sp_randint(50, 200),\n",
    "         'max_depth' : sp_randint(1, 20),\n",
    "         'learning_rate' : sp_uniform(0, 1)}\n",
    "\n",
    "rsearch_lgbmr1 = RandomizedSearchCV(lgbmr1, param_distributions = params,\n",
    "                                 cv = 5, n_iter = 100, n_jobs = -1, random_state = 0)\n",
    "\n",
    "rsearch_lgbmr1.fit(X_train_men, y_men)\n",
    "print(rsearch_lgbmr1.best_params_)"
   ]
  },
  {
   "cell_type": "code",
   "execution_count": 192,
   "metadata": {},
   "outputs": [
    {
     "name": "stdout",
     "output_type": "stream",
     "text": [
      "{'learning_rate': 0.276893750817091, 'max_depth': 15, 'n_estimators': 101}\n"
     ]
    }
   ],
   "source": [
    "lgbmr2 = lgb.LGBMRegressor(random_state = 0)\n",
    "\n",
    "params = {'n_estimators' : sp_randint(50, 200),\n",
    "         'max_depth' : sp_randint(1, 20),\n",
    "         'learning_rate' : sp_uniform(0, 1)}\n",
    "\n",
    "rsearch_lgbmr2 = RandomizedSearchCV(lgbmr2, param_distributions = params,\n",
    "                                 cv = 5, n_iter = 100, n_jobs = -1, random_state = 0)\n",
    "\n",
    "rsearch_lgbmr2.fit(X_train_women, y_women)\n",
    "print(rsearch_lgbmr2.best_params_)"
   ]
  },
  {
   "cell_type": "code",
   "execution_count": 193,
   "metadata": {},
   "outputs": [
    {
     "name": "stdout",
     "output_type": "stream",
     "text": [
      "{'learning_rate': 0.778345482025909, 'max_depth': 4, 'n_estimators': 145}\n"
     ]
    }
   ],
   "source": [
    "lgbmr3 = lgb.LGBMRegressor(random_state = 0)\n",
    "\n",
    "params = {'n_estimators' : sp_randint(50, 200),\n",
    "         'max_depth' : sp_randint(1, 20),\n",
    "         'learning_rate' : sp_uniform(0, 1)}\n",
    "\n",
    "rsearch_lgbmr3 = RandomizedSearchCV(lgbmr3, param_distributions = params,\n",
    "                                 cv = 5, n_iter = 100, n_jobs = -1, random_state = 0)\n",
    "\n",
    "rsearch_lgbmr3.fit(X_train_other, y_other)\n",
    "print(rsearch_lgbmr3.best_params_)"
   ]
  },
  {
   "cell_type": "markdown",
   "metadata": {},
   "source": [
    "###### Tuned LGBMR"
   ]
  },
  {
   "cell_type": "code",
   "execution_count": 194,
   "metadata": {},
   "outputs": [
    {
     "data": {
      "text/plain": [
       "0.7586384413813797"
      ]
     },
     "execution_count": 194,
     "metadata": {},
     "output_type": "execute_result"
    }
   ],
   "source": [
    "lgbmr1 = lgb.LGBMRegressor(**rsearch_lgbmr1.best_params_, random_state = 0)\n",
    "lgbmr1.fit(X_train_men, y_men)\n",
    "lgbmr1.score(X_train_men, y_men)"
   ]
  },
  {
   "cell_type": "code",
   "execution_count": 195,
   "metadata": {},
   "outputs": [
    {
     "data": {
      "text/plain": [
       "0.8070719365879317"
      ]
     },
     "execution_count": 195,
     "metadata": {},
     "output_type": "execute_result"
    }
   ],
   "source": [
    "lgbmr2 = lgb.LGBMRegressor(**rsearch_lgbmr2.best_params_, random_state = 0)\n",
    "lgbmr2.fit(X_train_women, y_women)\n",
    "lgbmr2.score(X_train_women, y_women)"
   ]
  },
  {
   "cell_type": "code",
   "execution_count": 196,
   "metadata": {},
   "outputs": [
    {
     "data": {
      "text/plain": [
       "0.7871928932064514"
      ]
     },
     "execution_count": 196,
     "metadata": {},
     "output_type": "execute_result"
    }
   ],
   "source": [
    "lgbmr3 = lgb.LGBMRegressor(**rsearch_lgbmr3.best_params_, random_state = 0)\n",
    "lgbmr3.fit(X_train_other, y_other)\n",
    "lgbmr3.score(X_train_other, y_other)"
   ]
  },
  {
   "cell_type": "markdown",
   "metadata": {},
   "source": [
    "#### Predictions"
   ]
  },
  {
   "cell_type": "code",
   "execution_count": 197,
   "metadata": {},
   "outputs": [],
   "source": [
    "pred_men = lgbmr1.predict(test_men)\n",
    "pred_women = lgbmr2.predict(test_women)\n",
    "pred_other = lgbmr3.predict(test_other)"
   ]
  },
  {
   "cell_type": "code",
   "execution_count": 198,
   "metadata": {},
   "outputs": [
    {
     "data": {
      "text/plain": [
       "array([572.69029167, 545.93528352, 631.40911046, 718.76877937,\n",
       "       740.36162115, 688.99104179, 660.60802362, 613.8250251 ,\n",
       "       672.10594805, 693.18020108, 913.8038697 , 913.8038697 ])"
      ]
     },
     "execution_count": 198,
     "metadata": {},
     "output_type": "execute_result"
    }
   ],
   "source": [
    "pred_men"
   ]
  },
  {
   "cell_type": "code",
   "execution_count": 199,
   "metadata": {},
   "outputs": [
    {
     "data": {
      "text/plain": [
       "[(572.6902916702423, 2596.862962556367, 1030.5985205656232),\n",
       " (545.9352835218322, 2607.605107572323, 961.7901114190646),\n",
       " (631.409110461562, 3279.883586502269, 1092.9636019031468),\n",
       " (718.7687793664112, 3586.909190186896, 1078.790415995631),\n",
       " (740.3616211516182, 3844.908298733567, 1104.9359424844279),\n",
       " (688.9910417916923, 3299.294971808819, 1100.656808198335),\n",
       " (660.6080236157919, 2899.9169270250177, 1002.4090991603541),\n",
       " (613.8250251049354, 3105.5684733459602, 1040.5230913100436),\n",
       " (672.1059480507931, 3278.0419943475263, 966.8643210787034),\n",
       " (693.1802010777033, 3439.003830706809, 1014.6365198306136),\n",
       " (913.8038696996423, 3952.307068073521, 1261.546264127536),\n",
       " (913.8038696996423, 4289.9596235419995, 1301.109312969107)]"
      ]
     },
     "execution_count": 199,
     "metadata": {},
     "output_type": "execute_result"
    }
   ],
   "source": [
    "pred = list(zip(pred_men, pred_women, pred_other))\n",
    "pred"
   ]
  },
  {
   "cell_type": "code",
   "execution_count": 200,
   "metadata": {},
   "outputs": [
    {
     "data": {
      "text/plain": [
       "(572.6902916702423, 2596.862962556367, 1030.5985205656232)"
      ]
     },
     "execution_count": 200,
     "metadata": {},
     "output_type": "execute_result"
    }
   ],
   "source": [
    "pred[0]"
   ]
  },
  {
   "cell_type": "code",
   "execution_count": 201,
   "metadata": {},
   "outputs": [
    {
     "data": {
      "text/plain": [
       "(545.9352835218322, 2607.605107572323, 961.7901114190646)"
      ]
     },
     "execution_count": 201,
     "metadata": {},
     "output_type": "execute_result"
    }
   ],
   "source": [
    "pred[1]"
   ]
  },
  {
   "cell_type": "code",
   "execution_count": 202,
   "metadata": {},
   "outputs": [
    {
     "name": "stdout",
     "output_type": "stream",
     "text": [
      "2596.862962556367 572.6902916702423 1030.5985205656232\n",
      "2607.605107572323 545.9352835218322 961.7901114190646\n",
      "3279.883586502269 631.409110461562 1092.9636019031468\n",
      "3586.909190186896 718.7687793664112 1078.790415995631\n",
      "3844.908298733567 740.3616211516182 1104.9359424844279\n",
      "3299.294971808819 688.9910417916923 1100.656808198335\n",
      "2899.9169270250177 660.6080236157919 1002.4090991603541\n",
      "3105.5684733459602 613.8250251049354 1040.5230913100436\n",
      "3278.0419943475263 672.1059480507931 966.8643210787034\n",
      "3439.003830706809 693.1802010777033 1014.6365198306136\n",
      "3952.307068073521 913.8038696996423 1261.546264127536\n",
      "4289.9596235419995 913.8038696996423 1301.109312969107\n"
     ]
    }
   ],
   "source": [
    "sol = []\n",
    "for i in range(len(pred)):\n",
    "    print(pred_women[i], pred_men[i], pred_other[i])\n",
    "    sol.append(pred_women[i])\n",
    "    sol.append(pred_men[i])\n",
    "    sol.append(pred_other[i])"
   ]
  },
  {
   "cell_type": "code",
   "execution_count": 203,
   "metadata": {},
   "outputs": [
    {
     "data": {
      "text/plain": [
       "array([2596.86296256,  572.69029167, 1030.59852057, 2607.60510757,\n",
       "        545.93528352,  961.79011142, 3279.8835865 ,  631.40911046,\n",
       "       1092.9636019 , 3586.90919019,  718.76877937, 1078.790416  ,\n",
       "       3844.90829873,  740.36162115, 1104.93594248, 3299.29497181,\n",
       "        688.99104179, 1100.6568082 , 2899.91692703,  660.60802362,\n",
       "       1002.40909916, 3105.56847335,  613.8250251 , 1040.52309131,\n",
       "       3278.04199435,  672.10594805,  966.86432108, 3439.00383071,\n",
       "        693.18020108, 1014.63651983, 3952.30706807,  913.8038697 ,\n",
       "       1261.54626413, 4289.95962354,  913.8038697 , 1301.10931297])"
      ]
     },
     "execution_count": 203,
     "metadata": {},
     "output_type": "execute_result"
    }
   ],
   "source": [
    "sol = np.array(sol)\n",
    "sol"
   ]
  },
  {
   "cell_type": "markdown",
   "metadata": {},
   "source": [
    "#### Submission Data "
   ]
  },
  {
   "cell_type": "code",
   "execution_count": 204,
   "metadata": {},
   "outputs": [],
   "source": [
    "kaggle = pd.read_csv('Kaggle_Submission_Format.csv')"
   ]
  },
  {
   "cell_type": "code",
   "execution_count": 205,
   "metadata": {},
   "outputs": [],
   "source": [
    "kaggle['Sales(In ThousandDollars)'] = sol"
   ]
  },
  {
   "cell_type": "code",
   "execution_count": 177,
   "metadata": {},
   "outputs": [
    {
     "data": {
      "text/html": [
       "<div>\n",
       "<style scoped>\n",
       "    .dataframe tbody tr th:only-of-type {\n",
       "        vertical-align: middle;\n",
       "    }\n",
       "\n",
       "    .dataframe tbody tr th {\n",
       "        vertical-align: top;\n",
       "    }\n",
       "\n",
       "    .dataframe thead th {\n",
       "        text-align: right;\n",
       "    }\n",
       "</style>\n",
       "<table border=\"1\" class=\"dataframe\">\n",
       "  <thead>\n",
       "    <tr style=\"text-align: right;\">\n",
       "      <th></th>\n",
       "      <th>Year</th>\n",
       "      <th>Sales(In ThousandDollars)</th>\n",
       "    </tr>\n",
       "  </thead>\n",
       "  <tbody>\n",
       "    <tr>\n",
       "      <th>0</th>\n",
       "      <td>1</td>\n",
       "      <td>2504.995195</td>\n",
       "    </tr>\n",
       "    <tr>\n",
       "      <th>1</th>\n",
       "      <td>2</td>\n",
       "      <td>570.151400</td>\n",
       "    </tr>\n",
       "    <tr>\n",
       "      <th>2</th>\n",
       "      <td>3</td>\n",
       "      <td>1089.046030</td>\n",
       "    </tr>\n",
       "    <tr>\n",
       "      <th>3</th>\n",
       "      <td>4</td>\n",
       "      <td>2796.266626</td>\n",
       "    </tr>\n",
       "    <tr>\n",
       "      <th>4</th>\n",
       "      <td>5</td>\n",
       "      <td>559.719568</td>\n",
       "    </tr>\n",
       "  </tbody>\n",
       "</table>\n",
       "</div>"
      ],
      "text/plain": [
       "   Year  Sales(In ThousandDollars)\n",
       "0     1                2504.995195\n",
       "1     2                 570.151400\n",
       "2     3                1089.046030\n",
       "3     4                2796.266626\n",
       "4     5                 559.719568"
      ]
     },
     "execution_count": 177,
     "metadata": {},
     "output_type": "execute_result"
    }
   ],
   "source": [
    "kaggle.to_csv('Iter6_splits_AvgLag_events_lgbmr.csv', index = False)\n",
    "kaggle.head()"
   ]
  },
  {
   "cell_type": "code",
   "execution_count": null,
   "metadata": {},
   "outputs": [],
   "source": []
  }
 ],
 "metadata": {
  "kernelspec": {
   "display_name": "Python 3",
   "language": "python",
   "name": "python3"
  },
  "language_info": {
   "codemirror_mode": {
    "name": "ipython",
    "version": 3
   },
   "file_extension": ".py",
   "mimetype": "text/x-python",
   "name": "python",
   "nbconvert_exporter": "python",
   "pygments_lexer": "ipython3",
   "version": "3.8.3"
  }
 },
 "nbformat": 4,
 "nbformat_minor": 4
}
